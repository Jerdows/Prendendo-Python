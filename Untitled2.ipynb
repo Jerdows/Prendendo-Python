{
  "nbformat": 4,
  "nbformat_minor": 0,
  "metadata": {
    "colab": {
      "provenance": [],
      "authorship_tag": "ABX9TyOxGSeZ0u1OMMUXOc4ppIzn",
      "include_colab_link": true
    },
    "kernelspec": {
      "name": "python3",
      "display_name": "Python 3"
    },
    "language_info": {
      "name": "python"
    }
  },
  "cells": [
    {
      "cell_type": "markdown",
      "metadata": {
        "id": "view-in-github",
        "colab_type": "text"
      },
      "source": [
        "<a href=\"https://colab.research.google.com/github/Jerdows/Prendendo-Python/blob/main/Untitled2.ipynb\" target=\"_parent\"><img src=\"https://colab.research.google.com/assets/colab-badge.svg\" alt=\"Open In Colab\"/></a>"
      ]
    },
    {
      "cell_type": "code",
      "execution_count": 6,
      "metadata": {
        "id": "-kHmVnQWeuuR"
      },
      "outputs": [],
      "source": [
        "dici_1 = {}\n",
        "dici_1['nome'] = \"Maria\"\n",
        "dici_1['idade'] = 25"
      ]
    },
    {
      "cell_type": "code",
      "source": [
        "dici_1"
      ],
      "metadata": {
        "colab": {
          "base_uri": "https://localhost:8080/"
        },
        "id": "fTljxYzhfSvt",
        "outputId": "802d9048-9ae6-45d7-edc8-be84f6e21ad0"
      },
      "execution_count": 3,
      "outputs": [
        {
          "output_type": "execute_result",
          "data": {
            "text/plain": [
              "{'nome': 'maria', 'idade': 25}"
            ]
          },
          "metadata": {},
          "execution_count": 3
        }
      ]
    },
    {
      "cell_type": "code",
      "source": [
        "#criando um dicionario com par de chaves: valor\n",
        "dici_2 = {'nome':'Maria','idade':25}\n",
        "#exemplo 3 - criando um dicionario com uma lista de tuplas representado pares chaves: valor\n",
        "dici_3 = dict([('nome','Maria'),('idade',25)])\n",
        "#exemplo 4 - criando de um dicionario usando a funcao bilt-in zip() e duas listas uma para as chaves e outra para os valores\n",
        "dici_4 = dict(zip(['nome','idade'],['Maria',25]))\n",
        "#teste se todas as construçoes resultam em objetos iguais\n",
        "print(dici_1 == dici_2 == dici_3 == dici_4)#deve imprimir True"
      ],
      "metadata": {
        "colab": {
          "base_uri": "https://localhost:8080/"
        },
        "id": "T92XDP2JgJKx",
        "outputId": "6d90b54e-8f00-4ba8-f985-63130a85d089"
      },
      "execution_count": 8,
      "outputs": [
        {
          "output_type": "stream",
          "name": "stdout",
          "text": [
            "True\n"
          ]
        }
      ]
    }
  ]
}