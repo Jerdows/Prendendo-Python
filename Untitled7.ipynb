{
  "nbformat": 4,
  "nbformat_minor": 0,
  "metadata": {
    "colab": {
      "provenance": [],
      "authorship_tag": "ABX9TyOHXKH0ugry/zQb2Zkvu5zS",
      "include_colab_link": true
    },
    "kernelspec": {
      "name": "python3",
      "display_name": "Python 3"
    },
    "language_info": {
      "name": "python"
    }
  },
  "cells": [
    {
      "cell_type": "markdown",
      "metadata": {
        "id": "view-in-github",
        "colab_type": "text"
      },
      "source": [
        "<a href=\"https://colab.research.google.com/github/Jerdows/Prendendo-Python/blob/main/Untitled7.ipynb\" target=\"_parent\"><img src=\"https://colab.research.google.com/assets/colab-badge.svg\" alt=\"Open In Colab\"/></a>"
      ]
    },
    {
      "cell_type": "code",
      "source": [
        "import pandas as pd\n",
        "#criar um dicionario com nomes e idade\n",
        "dados = {\n",
        "    'nome':['Alice','Bob','Carol','David','Eve'],\n",
        "    'Idade': [25,30,22,35,28]\n",
        "}\n",
        "#criar uma serie a partir do dicionario\n",
        "serie_idades = pd.Series(dados['Idade'], index=dados['nome'])\n",
        "#exibir a serie de idade\n",
        "print('Serie de Idade')\n",
        "print(serie_idades)\n"
      ],
      "metadata": {
        "id": "L3vcW5nkRc6F",
        "outputId": "bd18ccf5-39f3-4e03-fef8-210669992950",
        "colab": {
          "base_uri": "https://localhost:8080/"
        }
      },
      "execution_count": 1,
      "outputs": [
        {
          "output_type": "stream",
          "name": "stdout",
          "text": [
            "Serie de Idade\n",
            "Alice    25\n",
            "Bob      30\n",
            "Carol    22\n",
            "David    35\n",
            "Eve      28\n",
            "dtype: int64\n"
          ]
        }
      ]
    },
    {
      "cell_type": "code",
      "source": [
        "#calcular a media das idades\n",
        "media_idades = serie_idades.mean()\n",
        "print(\"\\nMédia de Idade:\",media_idades)"
      ],
      "metadata": {
        "id": "PZFLbl3RUUHK",
        "outputId": "06faa3fc-9a86-49c3-9c17-a7dd4fe1dd2d",
        "colab": {
          "base_uri": "https://localhost:8080/"
        }
      },
      "execution_count": 2,
      "outputs": [
        {
          "output_type": "stream",
          "name": "stdout",
          "text": [
            "\n",
            "Média de Idade: 28.0\n"
          ]
        }
      ]
    }
  ]
}