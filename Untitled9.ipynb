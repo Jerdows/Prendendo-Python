{
  "nbformat": 4,
  "nbformat_minor": 0,
  "metadata": {
    "colab": {
      "provenance": [],
      "authorship_tag": "ABX9TyOMoT3nyfU/nnPynR3/Hslg",
      "include_colab_link": true
    },
    "kernelspec": {
      "name": "python3",
      "display_name": "Python 3"
    },
    "language_info": {
      "name": "python"
    }
  },
  "cells": [
    {
      "cell_type": "markdown",
      "metadata": {
        "id": "view-in-github",
        "colab_type": "text"
      },
      "source": [
        "<a href=\"https://colab.research.google.com/github/Jerdows/Prendendo-Python/blob/main/Untitled9.ipynb\" target=\"_parent\"><img src=\"https://colab.research.google.com/assets/colab-badge.svg\" alt=\"Open In Colab\"/></a>"
      ]
    },
    {
      "cell_type": "code",
      "source": [
        "import sqlite3\n",
        "#conectar ao banco de dados SQLite ( ou criá-lo se não existir)\n",
        "conn = sqlite3.connect('test.db')\n"
      ],
      "metadata": {
        "id": "ewA19qOezSa-"
      },
      "execution_count": 11,
      "outputs": []
    },
    {
      "cell_type": "code",
      "source": [
        "#criar a atabela de funcionarios\n",
        "cursor = conn.cursor()\n",
        "cursor.execute('''\n",
        "  CREATE TABLE IF NOT EXISTS funcionarios (\n",
        "    id INTEGER PRIMARY KEY,\n",
        "    nome TEXT,\n",
        "    cargo TEXT,\n",
        "    salario REAL\n",
        "  )\n",
        "  ''')"
      ],
      "metadata": {
        "colab": {
          "base_uri": "https://localhost:8080/"
        },
        "id": "i9QQH8xHzfvV",
        "outputId": "d717add0-8fd9-4d73-bb6d-80775dc4268b"
      },
      "execution_count": 16,
      "outputs": [
        {
          "output_type": "execute_result",
          "data": {
            "text/plain": [
              "<sqlite3.Cursor at 0x7ec8b2b95340>"
            ]
          },
          "metadata": {},
          "execution_count": 16
        }
      ]
    },
    {
      "cell_type": "code",
      "source": [
        "#inserir funcionario na tabela\n",
        "novo_funcionario = (2, 'Joaozinho','Analista',5000.00)\n",
        "cursor.execute('INSERT INTO funcionarios VALUES (?,?,?,?)',novo_funcionario)\n",
        "conn.commit()"
      ],
      "metadata": {
        "id": "RPbrjcTS0QVd"
      },
      "execution_count": 19,
      "outputs": []
    },
    {
      "cell_type": "code",
      "source": [
        "novo_funcionario = (3,'Maria','Gerente',9000.00)\n",
        "cursor.execute('INSERT INTO funcionarios VALUES (?,?,?,?)', novo_funcionario)\n",
        "conn.commit()"
      ],
      "metadata": {
        "id": "6WgpBU7a2A2T"
      },
      "execution_count": 20,
      "outputs": []
    },
    {
      "cell_type": "code",
      "source": [
        "#consultar e exibir funcionários\n",
        "cursor.execute('SELECT*FROM funcionarios')\n",
        "funcionarios = cursor.fetchall()\n",
        "print('Funcionários Cadastrados:')\n",
        "for funcionario in funcionarios:\n",
        "  print(funcionario)"
      ],
      "metadata": {
        "colab": {
          "base_uri": "https://localhost:8080/"
        },
        "id": "H-wZmzoW2itc",
        "outputId": "69c16c80-f9bd-42f4-b1a1-569fa17a4425"
      },
      "execution_count": 26,
      "outputs": [
        {
          "output_type": "stream",
          "name": "stdout",
          "text": [
            "Funcionários Cadastrados:\n",
            "(2, 'Joaozinho', 'Analista', 5000.0)\n",
            "(3, 'Maria', 'Gerente', 9000.0)\n"
          ]
        }
      ]
    },
    {
      "cell_type": "code",
      "source": [
        "#atualizar informaçoes de um funionário\n",
        "atualizacao = ('Joao Silva',5500.00,1)\n",
        "cursor.execute('UPDATE funcionarios SET nome = ?, salario = ? WHERE id = ?',atualizacao)\n",
        "conn.commit()"
      ],
      "metadata": {
        "id": "YLfprjLN3HJz"
      },
      "execution_count": 24,
      "outputs": []
    },
    {
      "cell_type": "code",
      "source": [
        "# Deletar um funcioário da tabela\n",
        "id_funcionario_para_deletar = 1\n",
        "cursor.execute('DELETE FROM funcionarios WHERE id = ?', (id_funcionario_para_deletar,))\n",
        "conn.commit()"
      ],
      "metadata": {
        "id": "qDo3U3-m33NY"
      },
      "execution_count": 25,
      "outputs": []
    }
  ]
}