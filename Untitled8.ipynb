{
  "nbformat": 4,
  "nbformat_minor": 0,
  "metadata": {
    "colab": {
      "provenance": [],
      "authorship_tag": "ABX9TyOA7OQ2FilLsjXHtUaFvst6",
      "include_colab_link": true
    },
    "kernelspec": {
      "name": "python3",
      "display_name": "Python 3"
    },
    "language_info": {
      "name": "python"
    }
  },
  "cells": [
    {
      "cell_type": "markdown",
      "metadata": {
        "id": "view-in-github",
        "colab_type": "text"
      },
      "source": [
        "<a href=\"https://colab.research.google.com/github/Jerdows/Prendendo-Python/blob/main/Untitled8.ipynb\" target=\"_parent\"><img src=\"https://colab.research.google.com/assets/colab-badge.svg\" alt=\"Open In Colab\"/></a>"
      ]
    },
    {
      "cell_type": "code",
      "source": [
        "import pandas as pd\n",
        "data = {\n",
        "    'nome':['produto A', 'produto B', 'produto C','produto A','produto E'],\n",
        "    'quantidade de itens comprados': [3,1,4,3,2],\n",
        "    'tipo de item': ['Eletrônico', 'Vestuário','Alimento',' Eletrônico',' Alimento'],\n",
        "    'receita total':[120,80,60,120,90]\n",
        "}\n",
        "df = pd.DataFrame(data)\n",
        "print(df)"
      ],
      "metadata": {
        "colab": {
          "base_uri": "https://localhost:8080/"
        },
        "id": "V6mlgzctfnLg",
        "outputId": "119e7ca2-8ec3-40a0-d231-0a06d471b1ef"
      },
      "execution_count": 6,
      "outputs": [
        {
          "output_type": "stream",
          "name": "stdout",
          "text": [
            "        nome  quantidade de itens comprados tipo de item  receita total\n",
            "0  produto A                              3   Eletrônico            120\n",
            "1  produto B                              1    Vestuário             80\n",
            "2  produto C                              4     Alimento             60\n",
            "3  produto A                              3   Eletrônico            120\n",
            "4  produto E                              2     Alimento             90\n"
          ]
        }
      ]
    },
    {
      "cell_type": "code",
      "source": [
        "df.drop_duplicates(keep='last',inplace=True)\n",
        "print(df)\n",
        "\n"
      ],
      "metadata": {
        "colab": {
          "base_uri": "https://localhost:8080/"
        },
        "id": "Am0Gbq8JiA8K",
        "outputId": "60fb966a-f84f-45b8-8a1e-9a38fdbe43f2"
      },
      "execution_count": 12,
      "outputs": [
        {
          "output_type": "stream",
          "name": "stdout",
          "text": [
            "        nome  quantidade de itens comprados tipo de item  receita total\n",
            "0  produto A                              3   Eletrônico            120\n",
            "1  produto B                              1    Vestuário             80\n",
            "2  produto C                              4     Alimento             60\n",
            "3  produto A                              3   Eletrônico            120\n",
            "4  produto E                              2     Alimento             90\n"
          ]
        }
      ]
    },
    {
      "cell_type": "code",
      "source": [
        "df['preço do item']= df['receita total']/df['quantidade de itens comprados']\n",
        "\n",
        "itens_acima_de_50 = df[df['preço do item']>50]\n",
        "\n",
        "print ('itens acima de 50 reais:')\n",
        "print(itens_acima_de_50)"
      ],
      "metadata": {
        "colab": {
          "base_uri": "https://localhost:8080/"
        },
        "id": "vo2SV9LejdA-",
        "outputId": "fc20a99b-8a0b-4daf-86a1-2e039e21b335"
      },
      "execution_count": 13,
      "outputs": [
        {
          "output_type": "stream",
          "name": "stdout",
          "text": [
            "itens acima de 50 reais:\n",
            "        nome  quantidade de itens comprados tipo de item  receita total  \\\n",
            "1  produto B                              1    Vestuário             80   \n",
            "\n",
            "   preço do item  \n",
            "1           80.0  \n"
          ]
        }
      ]
    }
  ]
}